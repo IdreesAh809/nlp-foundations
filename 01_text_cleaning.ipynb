{
 "cells": [
  {
   "cell_type": "markdown",
   "id": "9222d159-cb2e-4ea2-9858-19bbac68899f",
   "metadata": {},
   "source": [
    "# Introduction to NLP & Text Cleaning\n",
    "\n",
    "## What is NLP?\n",
    "Natural Language Processing (NLP) is a branch of Artificial Intelligence (AI) that focuses on enabling computers to understand, interpret, and generate human language. It combines **linguistics, computer science, and machine learning** to analyze text and speech data.\n",
    "\n",
    "NLP is widely used in applications like:\n",
    "- Text classification (spam detection, sentiment analysis)\n",
    "- Machine translation (English → French)\n",
    "- Chatbots and virtual assistants\n",
    "- Text summarization and question answering\n",
    "\n",
    "## Why Text Cleaning is Important\n",
    "Text data is messy and often contains unwanted characters, punctuation, and capitalization differences.\n",
    "Cleaning the text is the **first step** in NLP preprocessing. Properly cleaned text improves the performance of machine learning models and embeddings.\n",
    "\n",
    "**In this notebook, we will learn:**\n",
    "1. Lowercasing\n",
    "2. Removing punctuation\n",
    "3. Removing stopwords\n",
    "4. Handling special characters and numbers\n",
    "5. Cleaning a sample dataset\n"
   ]
  },
  {
   "cell_type": "code",
   "execution_count": 1,
   "id": "3cedd252-5103-4744-ae56-6b08bd341ed1",
   "metadata": {},
   "outputs": [],
   "source": [
    "# Import libraries\n",
    "import re\n",
    "import string\n",
    "import pandas as pd\n",
    "from nltk.corpus import stopwords\n"
   ]
  },
  {
   "cell_type": "code",
   "execution_count": 2,
   "id": "29ce9f76-a066-4baf-9467-0db5e0843436",
   "metadata": {},
   "outputs": [
    {
     "name": "stderr",
     "output_type": "stream",
     "text": [
      "[nltk_data] Downloading package stopwords to C:\\Users\\IDREES\n",
      "[nltk_data]     AHMAD\\AppData\\Roaming\\nltk_data...\n",
      "[nltk_data]   Package stopwords is already up-to-date!\n"
     ]
    },
    {
     "data": {
      "text/plain": [
       "True"
      ]
     },
     "execution_count": 2,
     "metadata": {},
     "output_type": "execute_result"
    }
   ],
   "source": [
    "# Download stopwords (if first time)\n",
    "import nltk\n",
    "nltk.download('stopwords')"
   ]
  },
  {
   "cell_type": "markdown",
   "id": "c744da02-5538-46d6-be09-4f37c7f43d5a",
   "metadata": {},
   "source": [
    "# Sample dataset"
   ]
  },
  {
   "cell_type": "code",
   "execution_count": 3,
   "id": "4d30fd26-cc24-44db-bd5f-f9293b14c11c",
   "metadata": {},
   "outputs": [
    {
     "data": {
      "text/html": [
       "<div>\n",
       "<style scoped>\n",
       "    .dataframe tbody tr th:only-of-type {\n",
       "        vertical-align: middle;\n",
       "    }\n",
       "\n",
       "    .dataframe tbody tr th {\n",
       "        vertical-align: top;\n",
       "    }\n",
       "\n",
       "    .dataframe thead th {\n",
       "        text-align: right;\n",
       "    }\n",
       "</style>\n",
       "<table border=\"1\" class=\"dataframe\">\n",
       "  <thead>\n",
       "    <tr style=\"text-align: right;\">\n",
       "      <th></th>\n",
       "      <th>Text</th>\n",
       "    </tr>\n",
       "  </thead>\n",
       "  <tbody>\n",
       "    <tr>\n",
       "      <th>0</th>\n",
       "      <td>Hello there! How are you doing today?</td>\n",
       "    </tr>\n",
       "    <tr>\n",
       "      <th>1</th>\n",
       "      <td>NLP is amazing, isn't it?</td>\n",
       "    </tr>\n",
       "    <tr>\n",
       "      <th>2</th>\n",
       "      <td>Text preprocessing is a critical step in NLP!</td>\n",
       "    </tr>\n",
       "    <tr>\n",
       "      <th>3</th>\n",
       "      <td>Remove punctuation, stopwords, and make lowerc...</td>\n",
       "    </tr>\n",
       "  </tbody>\n",
       "</table>\n",
       "</div>"
      ],
      "text/plain": [
       "                                                Text\n",
       "0              Hello there! How are you doing today?\n",
       "1                          NLP is amazing, isn't it?\n",
       "2      Text preprocessing is a critical step in NLP!\n",
       "3  Remove punctuation, stopwords, and make lowerc..."
      ]
     },
     "execution_count": 3,
     "metadata": {},
     "output_type": "execute_result"
    }
   ],
   "source": [
    "texts = [\n",
    "    \"Hello there! How are you doing today?\",\n",
    "    \"NLP is amazing, isn't it?\",\n",
    "    \"Text preprocessing is a critical step in NLP!\",\n",
    "    \"Remove punctuation, stopwords, and make lowercase.\"\n",
    "]\n",
    "\n",
    "df = pd.DataFrame(texts, columns=['Text'])\n",
    "df.head()"
   ]
  },
  {
   "cell_type": "markdown",
   "id": "baed3d84-2392-4b95-b6a0-8c3ac4d43a50",
   "metadata": {},
   "source": [
    "**Step 1: Lowercasing**"
   ]
  },
  {
   "cell_type": "code",
   "execution_count": 4,
   "id": "2a152843-5881-4c17-ae22-14e35f455d0a",
   "metadata": {},
   "outputs": [
    {
     "data": {
      "text/html": [
       "<div>\n",
       "<style scoped>\n",
       "    .dataframe tbody tr th:only-of-type {\n",
       "        vertical-align: middle;\n",
       "    }\n",
       "\n",
       "    .dataframe tbody tr th {\n",
       "        vertical-align: top;\n",
       "    }\n",
       "\n",
       "    .dataframe thead th {\n",
       "        text-align: right;\n",
       "    }\n",
       "</style>\n",
       "<table border=\"1\" class=\"dataframe\">\n",
       "  <thead>\n",
       "    <tr style=\"text-align: right;\">\n",
       "      <th></th>\n",
       "      <th>Text</th>\n",
       "      <th>Clean_Text</th>\n",
       "    </tr>\n",
       "  </thead>\n",
       "  <tbody>\n",
       "    <tr>\n",
       "      <th>0</th>\n",
       "      <td>Hello there! How are you doing today?</td>\n",
       "      <td>hello there! how are you doing today?</td>\n",
       "    </tr>\n",
       "    <tr>\n",
       "      <th>1</th>\n",
       "      <td>NLP is amazing, isn't it?</td>\n",
       "      <td>nlp is amazing, isn't it?</td>\n",
       "    </tr>\n",
       "    <tr>\n",
       "      <th>2</th>\n",
       "      <td>Text preprocessing is a critical step in NLP!</td>\n",
       "      <td>text preprocessing is a critical step in nlp!</td>\n",
       "    </tr>\n",
       "    <tr>\n",
       "      <th>3</th>\n",
       "      <td>Remove punctuation, stopwords, and make lowerc...</td>\n",
       "      <td>remove punctuation, stopwords, and make lowerc...</td>\n",
       "    </tr>\n",
       "  </tbody>\n",
       "</table>\n",
       "</div>"
      ],
      "text/plain": [
       "                                                Text  \\\n",
       "0              Hello there! How are you doing today?   \n",
       "1                          NLP is amazing, isn't it?   \n",
       "2      Text preprocessing is a critical step in NLP!   \n",
       "3  Remove punctuation, stopwords, and make lowerc...   \n",
       "\n",
       "                                          Clean_Text  \n",
       "0              hello there! how are you doing today?  \n",
       "1                          nlp is amazing, isn't it?  \n",
       "2      text preprocessing is a critical step in nlp!  \n",
       "3  remove punctuation, stopwords, and make lowerc...  "
      ]
     },
     "execution_count": 4,
     "metadata": {},
     "output_type": "execute_result"
    }
   ],
   "source": [
    "# Lowercase all text\n",
    "df['Clean_Text'] = df['Text'].str.lower()\n",
    "df.head()"
   ]
  },
  {
   "cell_type": "markdown",
   "id": "6eba041d-3cc2-4309-8c5e-4569731f2278",
   "metadata": {},
   "source": [
    "**Step 2: Remove Punctuation**"
   ]
  },
  {
   "cell_type": "code",
   "execution_count": 5,
   "id": "0291834d-550d-4b1a-89aa-a0ac2413a87c",
   "metadata": {},
   "outputs": [
    {
     "data": {
      "text/html": [
       "<div>\n",
       "<style scoped>\n",
       "    .dataframe tbody tr th:only-of-type {\n",
       "        vertical-align: middle;\n",
       "    }\n",
       "\n",
       "    .dataframe tbody tr th {\n",
       "        vertical-align: top;\n",
       "    }\n",
       "\n",
       "    .dataframe thead th {\n",
       "        text-align: right;\n",
       "    }\n",
       "</style>\n",
       "<table border=\"1\" class=\"dataframe\">\n",
       "  <thead>\n",
       "    <tr style=\"text-align: right;\">\n",
       "      <th></th>\n",
       "      <th>Text</th>\n",
       "      <th>Clean_Text</th>\n",
       "    </tr>\n",
       "  </thead>\n",
       "  <tbody>\n",
       "    <tr>\n",
       "      <th>0</th>\n",
       "      <td>Hello there! How are you doing today?</td>\n",
       "      <td>hello there how are you doing today</td>\n",
       "    </tr>\n",
       "    <tr>\n",
       "      <th>1</th>\n",
       "      <td>NLP is amazing, isn't it?</td>\n",
       "      <td>nlp is amazing isnt it</td>\n",
       "    </tr>\n",
       "    <tr>\n",
       "      <th>2</th>\n",
       "      <td>Text preprocessing is a critical step in NLP!</td>\n",
       "      <td>text preprocessing is a critical step in nlp</td>\n",
       "    </tr>\n",
       "    <tr>\n",
       "      <th>3</th>\n",
       "      <td>Remove punctuation, stopwords, and make lowerc...</td>\n",
       "      <td>remove punctuation stopwords and make lowercase</td>\n",
       "    </tr>\n",
       "  </tbody>\n",
       "</table>\n",
       "</div>"
      ],
      "text/plain": [
       "                                                Text  \\\n",
       "0              Hello there! How are you doing today?   \n",
       "1                          NLP is amazing, isn't it?   \n",
       "2      Text preprocessing is a critical step in NLP!   \n",
       "3  Remove punctuation, stopwords, and make lowerc...   \n",
       "\n",
       "                                        Clean_Text  \n",
       "0              hello there how are you doing today  \n",
       "1                           nlp is amazing isnt it  \n",
       "2     text preprocessing is a critical step in nlp  \n",
       "3  remove punctuation stopwords and make lowercase  "
      ]
     },
     "execution_count": 5,
     "metadata": {},
     "output_type": "execute_result"
    }
   ],
   "source": [
    "# Remove punctuation\n",
    "df['Clean_Text'] = df['Clean_Text'].apply(lambda x: x.translate(str.maketrans('', '', string.punctuation)))\n",
    "df.head()"
   ]
  },
  {
   "cell_type": "markdown",
   "id": "1d71e0e8-3288-4e54-98ac-e14a6c3cc1b7",
   "metadata": {},
   "source": [
    "**Step 3: Remove Stopwords**"
   ]
  },
  {
   "cell_type": "code",
   "execution_count": 6,
   "id": "399c4f63-f85d-4b4c-be9f-11bd8f19e5fc",
   "metadata": {},
   "outputs": [
    {
     "data": {
      "text/html": [
       "<div>\n",
       "<style scoped>\n",
       "    .dataframe tbody tr th:only-of-type {\n",
       "        vertical-align: middle;\n",
       "    }\n",
       "\n",
       "    .dataframe tbody tr th {\n",
       "        vertical-align: top;\n",
       "    }\n",
       "\n",
       "    .dataframe thead th {\n",
       "        text-align: right;\n",
       "    }\n",
       "</style>\n",
       "<table border=\"1\" class=\"dataframe\">\n",
       "  <thead>\n",
       "    <tr style=\"text-align: right;\">\n",
       "      <th></th>\n",
       "      <th>Text</th>\n",
       "      <th>Clean_Text</th>\n",
       "    </tr>\n",
       "  </thead>\n",
       "  <tbody>\n",
       "    <tr>\n",
       "      <th>0</th>\n",
       "      <td>Hello there! How are you doing today?</td>\n",
       "      <td>hello today</td>\n",
       "    </tr>\n",
       "    <tr>\n",
       "      <th>1</th>\n",
       "      <td>NLP is amazing, isn't it?</td>\n",
       "      <td>nlp amazing isnt</td>\n",
       "    </tr>\n",
       "    <tr>\n",
       "      <th>2</th>\n",
       "      <td>Text preprocessing is a critical step in NLP!</td>\n",
       "      <td>text preprocessing critical step nlp</td>\n",
       "    </tr>\n",
       "    <tr>\n",
       "      <th>3</th>\n",
       "      <td>Remove punctuation, stopwords, and make lowerc...</td>\n",
       "      <td>remove punctuation stopwords make lowercase</td>\n",
       "    </tr>\n",
       "  </tbody>\n",
       "</table>\n",
       "</div>"
      ],
      "text/plain": [
       "                                                Text  \\\n",
       "0              Hello there! How are you doing today?   \n",
       "1                          NLP is amazing, isn't it?   \n",
       "2      Text preprocessing is a critical step in NLP!   \n",
       "3  Remove punctuation, stopwords, and make lowerc...   \n",
       "\n",
       "                                    Clean_Text  \n",
       "0                                  hello today  \n",
       "1                             nlp amazing isnt  \n",
       "2         text preprocessing critical step nlp  \n",
       "3  remove punctuation stopwords make lowercase  "
      ]
     },
     "execution_count": 6,
     "metadata": {},
     "output_type": "execute_result"
    }
   ],
   "source": [
    "stop_words = set(stopwords.words('english'))\n",
    "\n",
    "df['Clean_Text'] = df['Clean_Text'].apply(lambda x: ' '.join([word for word in x.split() if word not in stop_words]))\n",
    "df.head()"
   ]
  },
  {
   "cell_type": "markdown",
   "id": "86ad93a2-6411-4920-be66-3c031d723a69",
   "metadata": {},
   "source": [
    "**Step 4: Remove Numbers / Special Characters (Optional)**"
   ]
  },
  {
   "cell_type": "code",
   "execution_count": 7,
   "id": "00884ad6-d1a5-48ef-87ce-1c8927fe3505",
   "metadata": {},
   "outputs": [
    {
     "data": {
      "text/html": [
       "<div>\n",
       "<style scoped>\n",
       "    .dataframe tbody tr th:only-of-type {\n",
       "        vertical-align: middle;\n",
       "    }\n",
       "\n",
       "    .dataframe tbody tr th {\n",
       "        vertical-align: top;\n",
       "    }\n",
       "\n",
       "    .dataframe thead th {\n",
       "        text-align: right;\n",
       "    }\n",
       "</style>\n",
       "<table border=\"1\" class=\"dataframe\">\n",
       "  <thead>\n",
       "    <tr style=\"text-align: right;\">\n",
       "      <th></th>\n",
       "      <th>Text</th>\n",
       "      <th>Clean_Text</th>\n",
       "    </tr>\n",
       "  </thead>\n",
       "  <tbody>\n",
       "    <tr>\n",
       "      <th>0</th>\n",
       "      <td>Hello there! How are you doing today?</td>\n",
       "      <td>hello today</td>\n",
       "    </tr>\n",
       "    <tr>\n",
       "      <th>1</th>\n",
       "      <td>NLP is amazing, isn't it?</td>\n",
       "      <td>nlp amazing isnt</td>\n",
       "    </tr>\n",
       "    <tr>\n",
       "      <th>2</th>\n",
       "      <td>Text preprocessing is a critical step in NLP!</td>\n",
       "      <td>text preprocessing critical step nlp</td>\n",
       "    </tr>\n",
       "    <tr>\n",
       "      <th>3</th>\n",
       "      <td>Remove punctuation, stopwords, and make lowerc...</td>\n",
       "      <td>remove punctuation stopwords make lowercase</td>\n",
       "    </tr>\n",
       "  </tbody>\n",
       "</table>\n",
       "</div>"
      ],
      "text/plain": [
       "                                                Text  \\\n",
       "0              Hello there! How are you doing today?   \n",
       "1                          NLP is amazing, isn't it?   \n",
       "2      Text preprocessing is a critical step in NLP!   \n",
       "3  Remove punctuation, stopwords, and make lowerc...   \n",
       "\n",
       "                                    Clean_Text  \n",
       "0                                  hello today  \n",
       "1                             nlp amazing isnt  \n",
       "2         text preprocessing critical step nlp  \n",
       "3  remove punctuation stopwords make lowercase  "
      ]
     },
     "execution_count": 7,
     "metadata": {},
     "output_type": "execute_result"
    }
   ],
   "source": [
    "df['Clean_Text'] = df['Clean_Text'].apply(lambda x: re.sub(r'\\d+', '', x))  # Remove numbers\n",
    "df['Clean_Text'] = df['Clean_Text'].apply(lambda x: re.sub(r'\\s+', ' ', x).strip())  # Remove extra spaces\n",
    "df.head()\n"
   ]
  },
  {
   "cell_type": "markdown",
   "id": "49a1a248-996f-4d11-a4f9-0758017c3d2a",
   "metadata": {},
   "source": [
    "**Step 5: Example Cleaning Output**"
   ]
  },
  {
   "cell_type": "code",
   "execution_count": 8,
   "id": "c38b3a40-c244-4500-8e09-f02cc36695ad",
   "metadata": {},
   "outputs": [
    {
     "name": "stdout",
     "output_type": "stream",
     "text": [
      "Original: Hello there! How are you doing today?\n",
      "Cleaned:  hello today\n",
      "--------------------------------------------------\n",
      "Original: NLP is amazing, isn't it?\n",
      "Cleaned:  nlp amazing isnt\n",
      "--------------------------------------------------\n",
      "Original: Text preprocessing is a critical step in NLP!\n",
      "Cleaned:  text preprocessing critical step nlp\n",
      "--------------------------------------------------\n",
      "Original: Remove punctuation, stopwords, and make lowercase.\n",
      "Cleaned:  remove punctuation stopwords make lowercase\n",
      "--------------------------------------------------\n"
     ]
    }
   ],
   "source": [
    "for original, cleaned in zip(df['Text'], df['Clean_Text']):\n",
    "    print(f\"Original: {original}\")\n",
    "    print(f\"Cleaned:  {cleaned}\")\n",
    "    print('-'*50)\n"
   ]
  },
  {
   "cell_type": "code",
   "execution_count": null,
   "id": "25b9ebbf-9f56-477f-99db-c5ca74dc62bf",
   "metadata": {},
   "outputs": [],
   "source": []
  }
 ],
 "metadata": {
  "kernelspec": {
   "display_name": "Python 3 (ipykernel)",
   "language": "python",
   "name": "python3"
  },
  "language_info": {
   "codemirror_mode": {
    "name": "ipython",
    "version": 3
   },
   "file_extension": ".py",
   "mimetype": "text/x-python",
   "name": "python",
   "nbconvert_exporter": "python",
   "pygments_lexer": "ipython3",
   "version": "3.12.9"
  }
 },
 "nbformat": 4,
 "nbformat_minor": 5
}
