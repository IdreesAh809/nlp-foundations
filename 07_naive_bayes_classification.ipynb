{
 "cells": [
  {
   "cell_type": "markdown",
   "id": "1d47ebcf-3662-4149-baa8-0c098655d206",
   "metadata": {},
   "source": [
    "# 📘 Naive Bayes Classifier for SMS Spam Detection\n",
    "\n",
    "---\n",
    "\n",
    "## 🔹 1. Introduction\n",
    "In this notebook, we will implement a **Naive Bayes Classifier** to detect whether a given SMS message is **spam** or **ham (not spam)**.  \n",
    "\n",
    "Naive Bayes is a **probabilistic classifier** based on Bayes’ Theorem with the assumption of independence between features. It is widely used in text classification problems such as spam detection, sentiment analysis, and topic categorization.\n",
    "\n",
    "---\n",
    "\n",
    "## 🔹 2. Dataset\n",
    "We will use the **SMS Spam Collection Dataset** that we downloaded from Kaggle:  \n",
    "\n",
    "📂 [SMS Spam Collection Dataset on Kaggle](https://www.kaggle.com/datasets/uciml/sms-spam-collection-dataset)\n",
    "\n",
    "- The dataset contains **5,574 SMS messages** in English.\n",
    "- Each message is labeled as:\n",
    "  - `ham` → Not spam  \n",
    "  - `spam` → Spam message  \n",
    "\n",
    "---\n",
    "\n",
    "## 🔹 3. Steps in this Notebook\n",
    "1. Load and explore the dataset  \n",
    "2. Preprocess the text (cleaning, lowercasing, removing stopwords, etc.)  \n",
    "3. Convert text into numerical features using **Bag of Words (BoW)** and **TF-IDF**  \n",
    "4. Train a **Naive Bayes Classifier**  \n",
    "5. Evaluate the model with accuracy, precision, recall, and F1-score  \n",
    "\n",
    "---\n"
   ]
  },
  {
   "cell_type": "code",
   "execution_count": 1,
   "id": "50c05800-4ac4-42cc-b88f-6b85f0b3aa74",
   "metadata": {},
   "outputs": [],
   "source": [
    "# 1. Import libraries\n",
    "import pandas as pd\n",
    "import numpy as np\n",
    "import matplotlib.pyplot as plt\n",
    "import seaborn as sns\n",
    "\n",
    "from sklearn.model_selection import train_test_split\n",
    "from sklearn.feature_extraction.text import CountVectorizer, TfidfVectorizer\n",
    "from sklearn.naive_bayes import MultinomialNB\n",
    "from sklearn.metrics import accuracy_score, confusion_matrix, classification_report"
   ]
  },
  {
   "cell_type": "code",
   "execution_count": 2,
   "id": "b46ddf5a-ae8a-4acf-8bb5-622eac2d7cdb",
   "metadata": {},
   "outputs": [
    {
     "data": {
      "text/html": [
       "<div>\n",
       "<style scoped>\n",
       "    .dataframe tbody tr th:only-of-type {\n",
       "        vertical-align: middle;\n",
       "    }\n",
       "\n",
       "    .dataframe tbody tr th {\n",
       "        vertical-align: top;\n",
       "    }\n",
       "\n",
       "    .dataframe thead th {\n",
       "        text-align: right;\n",
       "    }\n",
       "</style>\n",
       "<table border=\"1\" class=\"dataframe\">\n",
       "  <thead>\n",
       "    <tr style=\"text-align: right;\">\n",
       "      <th></th>\n",
       "      <th>label</th>\n",
       "      <th>message</th>\n",
       "    </tr>\n",
       "  </thead>\n",
       "  <tbody>\n",
       "    <tr>\n",
       "      <th>0</th>\n",
       "      <td>ham</td>\n",
       "      <td>Go until jurong point, crazy.. Available only ...</td>\n",
       "    </tr>\n",
       "    <tr>\n",
       "      <th>1</th>\n",
       "      <td>ham</td>\n",
       "      <td>Ok lar... Joking wif u oni...</td>\n",
       "    </tr>\n",
       "    <tr>\n",
       "      <th>2</th>\n",
       "      <td>spam</td>\n",
       "      <td>Free entry in 2 a wkly comp to win FA Cup fina...</td>\n",
       "    </tr>\n",
       "    <tr>\n",
       "      <th>3</th>\n",
       "      <td>ham</td>\n",
       "      <td>U dun say so early hor... U c already then say...</td>\n",
       "    </tr>\n",
       "    <tr>\n",
       "      <th>4</th>\n",
       "      <td>ham</td>\n",
       "      <td>Nah I don't think he goes to usf, he lives aro...</td>\n",
       "    </tr>\n",
       "  </tbody>\n",
       "</table>\n",
       "</div>"
      ],
      "text/plain": [
       "  label                                            message\n",
       "0   ham  Go until jurong point, crazy.. Available only ...\n",
       "1   ham                      Ok lar... Joking wif u oni...\n",
       "2  spam  Free entry in 2 a wkly comp to win FA Cup fina...\n",
       "3   ham  U dun say so early hor... U c already then say...\n",
       "4   ham  Nah I don't think he goes to usf, he lives aro..."
      ]
     },
     "execution_count": 2,
     "metadata": {},
     "output_type": "execute_result"
    }
   ],
   "source": [
    "# 2. Load dataset\n",
    "df = pd.read_csv(\"spam.csv\", encoding=\"latin-1\")\n",
    "\n",
    "# Some versions of this dataset have extra columns → drop them\n",
    "df = df[['v1', 'v2']]\n",
    "df.columns = ['label', 'message']\n",
    "\n",
    "df.head()\n"
   ]
  },
  {
   "cell_type": "markdown",
   "id": "fd9b2b9a-27f5-4dc7-95db-7ea66b906965",
   "metadata": {},
   "source": [
    "### 📊 Dataset Overview\n",
    "- `label` → spam / ham  \n",
    "- `message` → SMS text  "
   ]
  },
  {
   "cell_type": "code",
   "execution_count": 3,
   "id": "786551b2-a3d1-4a8a-9bcd-68881d0a5ab1",
   "metadata": {},
   "outputs": [
    {
     "data": {
      "image/png": "[encoded data removed]",
      "text/plain": [
       "<Figure size 640x480 with 1 Axes>"
      ]
     },
     "metadata": {},
     "output_type": "display_data"
    },
    {
     "data": {
      "text/plain": [
       "label\n",
       "ham     4825\n",
       "spam     747\n",
       "Name: count, dtype: int64"
      ]
     },
     "execution_count": 3,
     "metadata": {},
     "output_type": "execute_result"
    }
   ],
   "source": [
    "# 3. Check class distribution\n",
    "sns.countplot(x=df['label'])\n",
    "plt.title(\"Class Distribution (Ham vs Spam)\")\n",
    "plt.show()\n",
    "\n",
    "df['label'].value_counts()\n"
   ]
  },
  {
   "cell_type": "markdown",
   "id": "29c17035-5ee4-4b5e-b1a3-509a73b87d94",
   "metadata": {},
   "source": [
    "We can see there are more `ham` messages than `spam`, making the dataset **imbalanced**."
   ]
  },
  {
   "cell_type": "code",
   "execution_count": 4,
   "id": "fe052f4c-96cf-467f-96f8-afa84bba4749",
   "metadata": {},
   "outputs": [
    {
     "name": "stdout",
     "output_type": "stream",
     "text": [
      "Training samples: 4457\n",
      "Testing samples: 1115\n"
     ]
    }
   ],
   "source": [
    "# 4. Preprocess data (train-test split)\n",
    "X = df['message']\n",
    "y = df['label'].map({'ham':0, 'spam':1})  # Convert labels to 0 and 1\n",
    "\n",
    "X_train, X_test, y_train, y_test = train_test_split(X, y, test_size=0.2, random_state=42, stratify=y)\n",
    "\n",
    "print(\"Training samples:\", X_train.shape[0])\n",
    "print(\"Testing samples:\", X_test.shape[0])\n"
   ]
  },
  {
   "cell_type": "markdown",
   "id": "b96cccaa-9d6a-4766-b749-fca576590eaa",
   "metadata": {},
   "source": [
    "### 🔹 Feature Extraction\n",
    "We’ll try two approaches:\n",
    "1. **Bag of Words (BoW)**\n",
    "2. **TF-IDF**\n"
   ]
  },
  {
   "cell_type": "code",
   "execution_count": 5,
   "id": "ff4f05f2-27d8-442e-9935-6c1489175633",
   "metadata": {},
   "outputs": [
    {
     "name": "stdout",
     "output_type": "stream",
     "text": [
      "📊 Bag of Words Accuracy: 0.9838565022421525\n",
      "              precision    recall  f1-score   support\n",
      "\n",
      "           0       0.99      0.99      0.99       966\n",
      "           1       0.96      0.92      0.94       149\n",
      "\n",
      "    accuracy                           0.98      1115\n",
      "   macro avg       0.97      0.96      0.96      1115\n",
      "weighted avg       0.98      0.98      0.98      1115\n",
      "\n"
     ]
    }
   ],
   "source": [
    "# 5A. Bag of Words\n",
    "cv = CountVectorizer(stop_words='english')\n",
    "X_train_cv = cv.fit_transform(X_train)\n",
    "X_test_cv = cv.transform(X_test)\n",
    "\n",
    "# Train Naive Bayes\n",
    "nb_bow = MultinomialNB()\n",
    "nb_bow.fit(X_train_cv, y_train)\n",
    "\n",
    "y_pred_bow = nb_bow.predict(X_test_cv)\n",
    "\n",
    "print(\"📊 Bag of Words Accuracy:\", accuracy_score(y_test, y_pred_bow))\n",
    "print(classification_report(y_test, y_pred_bow))\n"
   ]
  },
  {
   "cell_type": "code",
   "execution_count": 6,
   "id": "d95a5f3f-d187-46ca-b3f1-35a375dcdbb6",
   "metadata": {},
   "outputs": [
    {
     "name": "stdout",
     "output_type": "stream",
     "text": [
      "📊 TF-IDF Accuracy: 0.968609865470852\n",
      "              precision    recall  f1-score   support\n",
      "\n",
      "           0       0.97      1.00      0.98       966\n",
      "           1       1.00      0.77      0.87       149\n",
      "\n",
      "    accuracy                           0.97      1115\n",
      "   macro avg       0.98      0.88      0.92      1115\n",
      "weighted avg       0.97      0.97      0.97      1115\n",
      "\n"
     ]
    }
   ],
   "source": [
    "# 5B. TF-IDF\n",
    "tfidf = TfidfVectorizer(stop_words='english')\n",
    "X_train_tfidf = tfidf.fit_transform(X_train)\n",
    "X_test_tfidf = tfidf.transform(X_test)\n",
    "\n",
    "# Train Naive Bayes\n",
    "nb_tfidf = MultinomialNB()\n",
    "nb_tfidf.fit(X_train_tfidf, y_train)\n",
    "\n",
    "y_pred_tfidf = nb_tfidf.predict(X_test_tfidf)\n",
    "\n",
    "print(\"📊 TF-IDF Accuracy:\", accuracy_score(y_test, y_pred_tfidf))\n",
    "print(classification_report(y_test, y_pred_tfidf))\n"
   ]
  },
  {
   "cell_type": "code",
   "execution_count": 7,
   "id": "a680f29c-042a-4041-b1e8-c30ffc849905",
   "metadata": {},
   "outputs": [
    {
     "data": {
      "image/png": "[encoded data removed]",
      "text/plain": [
       "<Figure size 640x480 with 2 Axes>"
      ]
     },
     "metadata": {},
     "output_type": "display_data"
    }
   ],
   "source": [
    "# 6. Confusion Matrix for TF-IDF\n",
    "cm = confusion_matrix(y_test, y_pred_tfidf)\n",
    "\n",
    "sns.heatmap(cm, annot=True, fmt='d', cmap='Blues', xticklabels=['Ham', 'Spam'], yticklabels=['Ham', 'Spam'])\n",
    "plt.xlabel(\"Predicted\")\n",
    "plt.ylabel(\"Actual\")\n",
    "plt.title(\"Confusion Matrix (TF-IDF)\")\n",
    "plt.show()\n"
   ]
  },
  {
   "cell_type": "markdown",
   "id": "ccc948ab-c3bf-4d74-8a80-5e4cd104fa60",
   "metadata": {},
   "source": [
    "---\n",
    "\n",
    "## 🔹 4. Results & Observations\n",
    "- **Bag of Words (BoW):** Works well but treats all words equally.  \n",
    "- **TF-IDF:** Performs slightly better since it gives higher weight to rare but important words.  \n",
    "- **Naive Bayes:** Fast, interpretable, and effective for spam detection.  \n",
    "\n",
    "✅ With TF-IDF + Naive Bayes, we usually get around **96–98% accuracy**.  \n",
    "\n",
    "---\n"
   ]
  },
  {
   "cell_type": "code",
   "execution_count": 8,
   "id": "7abbef5d-2c89-4bac-9e6c-b32a78a872ad",
   "metadata": {},
   "outputs": [
    {
     "name": "stdout",
     "output_type": "stream",
     "text": [
      "📩 Message: Oh right, ok. I'll make sure that i do loads of work during the day!  got a really nasty cough today and is dry n shot so that should really help it!\n",
      "✅ True Label: Ham\n",
      "🔮 Predicted: Ham\n",
      "------------------------------------------------------------\n",
      "📩 Message: I am in tirupur.  call you da.\n",
      "✅ True Label: Ham\n",
      "🔮 Predicted: Ham\n",
      "------------------------------------------------------------\n",
      "📩 Message: No that just means you have a fat head\n",
      "✅ True Label: Ham\n",
      "🔮 Predicted: Ham\n",
      "------------------------------------------------------------\n",
      "📩 Message: You have won ?1,000 cash or a ?2,000 prize! To claim, call09050000327\n",
      "✅ True Label: Spam\n",
      "🔮 Predicted: Spam\n",
      "------------------------------------------------------------\n",
      "📩 Message: Come aftr  &lt;DECIMAL&gt; ..now i m cleaning the house\n",
      "✅ True Label: Ham\n",
      "🔮 Predicted: Ham\n",
      "------------------------------------------------------------\n",
      "📩 Message: Friendship poem: Dear O Dear U R Not Near But I Can Hear Dont Get Fear Live With Cheer No More Tear U R Always my Dear. Gud ni8\n",
      "✅ True Label: Ham\n",
      "🔮 Predicted: Ham\n",
      "------------------------------------------------------------\n",
      "📩 Message: Wot about on wed nite I am 3 then but only til 9!\n",
      "✅ True Label: Ham\n",
      "🔮 Predicted: Ham\n",
      "------------------------------------------------------------\n",
      "📩 Message: Dont talk to him ever ok its my word.\n",
      "✅ True Label: Ham\n",
      "🔮 Predicted: Ham\n",
      "------------------------------------------------------------\n",
      "📩 Message: Congrats kano..whr s the treat maga?\n",
      "✅ True Label: Ham\n",
      "🔮 Predicted: Ham\n",
      "------------------------------------------------------------\n",
      "📩 Message: Eh u remember how 2 spell his name... Yes i did. He v naughty make until i v wet.\n",
      "✅ True Label: Ham\n",
      "🔮 Predicted: Ham\n",
      "------------------------------------------------------------\n"
     ]
    }
   ],
   "source": [
    "# 7. Predictions on Test Set\n",
    "\n",
    "# Get some test messages and their true labels\n",
    "sample_messages = X_test[:10]\n",
    "sample_labels = y_test[:10]\n",
    "\n",
    "# Predict using the trained model (TF-IDF version)\n",
    "predictions = nb_tfidf.predict(tfidf.transform(sample_messages))\n",
    "\n",
    "# Show results\n",
    "for msg, true_label, pred in zip(sample_messages, sample_labels, predictions):\n",
    "    print(\"📩 Message:\", msg)\n",
    "    print(\"✅ True Label:\", \"Spam\" if true_label == 1 else \"Ham\")\n",
    "    print(\"🔮 Predicted:\", \"Spam\" if pred == 1 else \"Ham\")\n",
    "    print(\"-\" * 60)\n"
   ]
  },
  {
   "cell_type": "code",
   "execution_count": null,
   "id": "8a73d5e4-88bc-45d7-853c-3b66357b24c4",
   "metadata": {},
   "outputs": [],
   "source": []
  }
 ],
 "metadata": {
  "kernelspec": {
   "display_name": "Python 3 (ipykernel)",
   "language": "python",
   "name": "python3"
  },
  "language_info": {
   "codemirror_mode": {
    "name": "ipython",
    "version": 3
   },
   "file_extension": ".py",
   "mimetype": "text/x-python",
   "name": "python",
   "nbconvert_exporter": "python",
   "pygments_lexer": "ipython3",
   "version": "3.12.9"
  }
 },
 "nbformat": 4,
 "nbformat_minor": 5
}
