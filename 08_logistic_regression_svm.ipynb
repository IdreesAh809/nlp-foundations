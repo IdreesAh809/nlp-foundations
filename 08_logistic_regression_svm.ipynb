{
 "cells": [
  {
   "cell_type": "markdown",
   "id": "0ca11f75-e1f3-42c0-9f83-02727a910794",
   "metadata": {},
   "source": [
    "# 📘 Logistic Regression & SVM in NLP (Spam Detection)\n",
    "\n",
    "---\n",
    "\n",
    "## 🔹 1. Introduction\n",
    "In the **statistical era of NLP**, algorithms like **Naive Bayes, Logistic Regression, and SVM** were widely used for text classification before deep learning.  \n",
    "\n",
    "Here, we’ll use **Logistic Regression** and **Support Vector Machines (SVM)** to detect spam messages from the classic **SMS Spam dataset (spam.csv from Kaggle)**.\n",
    "\n",
    "---\n",
    "\n",
    "## 🔹 2. Dataset\n",
    "- Dataset: **SMS Spam Collection** (spam.csv)  \n",
    "- Source: Kaggle  \n",
    "- Classes:  \n",
    "  - `ham` → normal message  \n",
    "  - `spam` → unwanted / promotional message  "
   ]
  },
  {
   "cell_type": "code",
   "execution_count": 2,
   "id": "75d104e2-f6dd-42fe-89c8-21471f463ad0",
   "metadata": {},
   "outputs": [],
   "source": [
    "# 📦 Import libraries\n",
    "import pandas as pd\n",
    "import numpy as np\n",
    "from sklearn.model_selection import train_test_split\n",
    "from sklearn.feature_extraction.text import TfidfVectorizer\n",
    "from sklearn.linear_model import LogisticRegression\n",
    "from sklearn.svm import SVC\n",
    "from sklearn.metrics import classification_report, accuracy_score, confusion_matrix"
   ]
  },
  {
   "cell_type": "code",
   "execution_count": 3,
   "id": "514a7c87-3e1d-4e9a-b81e-9da1ae6c40b0",
   "metadata": {},
   "outputs": [
    {
     "data": {
      "text/html": [
       "<div>\n",
       "<style scoped>\n",
       "    .dataframe tbody tr th:only-of-type {\n",
       "        vertical-align: middle;\n",
       "    }\n",
       "\n",
       "    .dataframe tbody tr th {\n",
       "        vertical-align: top;\n",
       "    }\n",
       "\n",
       "    .dataframe thead th {\n",
       "        text-align: right;\n",
       "    }\n",
       "</style>\n",
       "<table border=\"1\" class=\"dataframe\">\n",
       "  <thead>\n",
       "    <tr style=\"text-align: right;\">\n",
       "      <th></th>\n",
       "      <th>label</th>\n",
       "      <th>message</th>\n",
       "    </tr>\n",
       "  </thead>\n",
       "  <tbody>\n",
       "    <tr>\n",
       "      <th>0</th>\n",
       "      <td>0</td>\n",
       "      <td>Go until jurong point, crazy.. Available only ...</td>\n",
       "    </tr>\n",
       "    <tr>\n",
       "      <th>1</th>\n",
       "      <td>0</td>\n",
       "      <td>Ok lar... Joking wif u oni...</td>\n",
       "    </tr>\n",
       "    <tr>\n",
       "      <th>2</th>\n",
       "      <td>1</td>\n",
       "      <td>Free entry in 2 a wkly comp to win FA Cup fina...</td>\n",
       "    </tr>\n",
       "    <tr>\n",
       "      <th>3</th>\n",
       "      <td>0</td>\n",
       "      <td>U dun say so early hor... U c already then say...</td>\n",
       "    </tr>\n",
       "    <tr>\n",
       "      <th>4</th>\n",
       "      <td>0</td>\n",
       "      <td>Nah I don't think he goes to usf, he lives aro...</td>\n",
       "    </tr>\n",
       "  </tbody>\n",
       "</table>\n",
       "</div>"
      ],
      "text/plain": [
       "   label                                            message\n",
       "0      0  Go until jurong point, crazy.. Available only ...\n",
       "1      0                      Ok lar... Joking wif u oni...\n",
       "2      1  Free entry in 2 a wkly comp to win FA Cup fina...\n",
       "3      0  U dun say so early hor... U c already then say...\n",
       "4      0  Nah I don't think he goes to usf, he lives aro..."
      ]
     },
     "execution_count": 3,
     "metadata": {},
     "output_type": "execute_result"
    }
   ],
   "source": [
    "# 📂 Load dataset\n",
    "df = pd.read_csv(\"spam.csv\", encoding=\"latin-1\")\n",
    "\n",
    "# Keep only useful columns\n",
    "df = df[['v1', 'v2']]\n",
    "df.columns = ['label', 'message']\n",
    "\n",
    "# Map labels: spam=1, ham=0\n",
    "df['label'] = df['label'].map({'ham': 0, 'spam': 1})\n",
    "\n",
    "df.head()"
   ]
  },
  {
   "cell_type": "markdown",
   "id": "02ebcb15-19de-416b-aa88-70d98aa42738",
   "metadata": {},
   "source": [
    "---\n",
    "\n",
    "## 🔹 3. Preprocessing\n",
    "We’ll use **TF-IDF Vectorization** to convert text into numerical features.\n",
    "\n",
    "---\n"
   ]
  },
  {
   "cell_type": "code",
   "execution_count": 4,
   "id": "a9149c5b-177b-495b-9c54-9521ae36dc49",
   "metadata": {},
   "outputs": [
    {
     "name": "stdout",
     "output_type": "stream",
     "text": [
      "Training data shape: (4457, 3000)\n"
     ]
    }
   ],
   "source": [
    "# ✨ Train-test split\n",
    "X_train, X_test, y_train, y_test = train_test_split(\n",
    "    df['message'], df['label'], test_size=0.2, random_state=42\n",
    ")\n",
    "\n",
    "# 🔡 Convert text → TF-IDF features\n",
    "vectorizer = TfidfVectorizer(stop_words='english', max_features=3000)\n",
    "X_train_tfidf = vectorizer.fit_transform(X_train)\n",
    "X_test_tfidf = vectorizer.transform(X_test)\n",
    "\n",
    "print(\"Training data shape:\", X_train_tfidf.shape)\n"
   ]
  },
  {
   "cell_type": "markdown",
   "id": "a8d14c93-4695-424a-b7b9-99e0d8faa30c",
   "metadata": {},
   "source": [
    "---\n",
    "\n",
    "## 🔹 4. Logistic Regression Model\n",
    "Logistic Regression learns **probabilities** for each class (Spam vs Ham) using the **sigmoid function**.\n",
    "\n",
    "---\n"
   ]
  },
  {
   "cell_type": "code",
   "execution_count": 5,
   "id": "ba9a82e0-f04b-44a7-bb91-5e3fffec4343",
   "metadata": {},
   "outputs": [
    {
     "name": "stdout",
     "output_type": "stream",
     "text": [
      "🔹 Logistic Regression Results:\n",
      "Accuracy: 0.9641255605381166\n",
      "\n",
      "Classification Report:\n",
      "               precision    recall  f1-score   support\n",
      "\n",
      "           0       0.96      1.00      0.98       965\n",
      "           1       0.97      0.75      0.85       150\n",
      "\n",
      "    accuracy                           0.96      1115\n",
      "   macro avg       0.97      0.88      0.91      1115\n",
      "weighted avg       0.96      0.96      0.96      1115\n",
      "\n"
     ]
    }
   ],
   "source": [
    "# Train Logistic Regression\n",
    "log_reg = LogisticRegression(max_iter=1000)\n",
    "log_reg.fit(X_train_tfidf, y_train)\n",
    "\n",
    "# 📊 Predictions\n",
    "y_pred_log = log_reg.predict(X_test_tfidf)\n",
    "\n",
    "# 📝 Evaluation\n",
    "print(\"🔹 Logistic Regression Results:\")\n",
    "print(\"Accuracy:\", accuracy_score(y_test, y_pred_log))\n",
    "print(\"\\nClassification Report:\\n\", classification_report(y_test, y_pred_log))\n"
   ]
  },
  {
   "cell_type": "markdown",
   "id": "2058a543-d131-4626-911a-c708a439866e",
   "metadata": {},
   "source": [
    "---\n",
    "\n",
    "## 🔹 5. Support Vector Machine (SVM) Model\n",
    "SVM tries to find the **best separating boundary** (hyperplane) between classes.  \n",
    "It works well in high-dimensional spaces like text data.\n",
    "\n",
    "---\n"
   ]
  },
  {
   "cell_type": "code",
   "execution_count": 7,
   "id": "1bec3505-cc13-4baa-91d2-4b7d6662108f",
   "metadata": {},
   "outputs": [
    {
     "name": "stdout",
     "output_type": "stream",
     "text": [
      "🔹 SVM Results:\n",
      "Accuracy: 0.97847533632287\n",
      "\n",
      "Classification Report:\n",
      "               precision    recall  f1-score   support\n",
      "\n",
      "           0       0.98      1.00      0.99       965\n",
      "           1       0.97      0.87      0.92       150\n",
      "\n",
      "    accuracy                           0.98      1115\n",
      "   macro avg       0.97      0.93      0.95      1115\n",
      "weighted avg       0.98      0.98      0.98      1115\n",
      "\n"
     ]
    }
   ],
   "source": [
    "# Train Support Vector Machine\n",
    "svm = SVC(kernel='linear')  # linear kernel works well for text\n",
    "svm.fit(X_train_tfidf, y_train)\n",
    "\n",
    "# 📊 Predictions\n",
    "y_pred_svm = svm.predict(X_test_tfidf)\n",
    "\n",
    "# 📝 Evaluation\n",
    "print(\"🔹 SVM Results:\")\n",
    "print(\"Accuracy:\", accuracy_score(y_test, y_pred_svm))\n",
    "print(\"\\nClassification Report:\\n\", classification_report(y_test, y_pred_svm))\n"
   ]
  },
  {
   "cell_type": "markdown",
   "id": "d85831c2-9fc4-4318-89c5-fe3e01f40620",
   "metadata": {},
   "source": [
    "---\n",
    "\n",
    "## 🔹 6. Results & Comparison\n",
    "\n",
    "- **Logistic Regression** → probability-based, faster, interpretable.  \n",
    "- **SVM** → margin-based, strong in high-dimensional data.  \n",
    "\n",
    "Both models can achieve **90–97% accuracy** on this dataset.  \n",
    "\n",
    "---\n",
    "\n",
    "✅ You can now experiment by:\n",
    "- Changing `max_features` in TF-IDF.  \n",
    "- Trying `ngram_range=(1,2)` for bigram features.  \n",
    "- Using other kernels in SVM (`rbf`, `poly`).  \n",
    "\n",
    "---\n"
   ]
  },
  {
   "cell_type": "code",
   "execution_count": null,
   "id": "5b653de2-ff8a-415c-8e4a-ad0bec673847",
   "metadata": {},
   "outputs": [],
   "source": []
  }
 ],
 "metadata": {
  "kernelspec": {
   "display_name": "Python 3 (ipykernel)",
   "language": "python",
   "name": "python3"
  },
  "language_info": {
   "codemirror_mode": {
    "name": "ipython",
    "version": 3
   },
   "file_extension": ".py",
   "mimetype": "text/x-python",
   "name": "python",
   "nbconvert_exporter": "python",
   "pygments_lexer": "ipython3",
   "version": "3.12.9"
  }
 },
 "nbformat": 4,
 "nbformat_minor": 5
}
