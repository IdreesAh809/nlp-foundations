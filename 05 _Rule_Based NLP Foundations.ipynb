{
 "cells": [
  {
   "cell_type": "markdown",
   "id": "3eba5f2b-b569-43fc-851b-fb575dbf4762",
   "metadata": {},
   "source": [
    "# Rule-Based NLP Foundations\n",
    "\n",
    "## Introduction: Purpose\n",
    "Rule-Based NLP is the **first stage of NLP learning**.  \n",
    "Its purpose is to **process and extract information from text using predefined rules**, without relying on statistical models or deep learning.\n",
    "\n",
    "### Why use Rule-Based NLP?\n",
    "1. **Understand text structure**: Identify sentences, words, and patterns.  \n",
    "2. **Quick solutions for simple tasks**: Keyword extraction, sentiment detection, and pattern matching.  \n",
    "3. **Foundation for advanced NLP**: Essential before applying machine learning or deep learning methods.  \n",
    "4. **Build intuition**: Understand how text is structured and how meaning can be extracted.\n",
    "\n",
    "### Learning Objectives\n",
    "By the end of this notebook, you will be able to:\n",
    "- Extract keywords from text using lists of important words\n",
    "- Match patterns in text using regular expressions (regex)\n",
    "- Apply simple rules for sentiment or structural analysis\n",
    "- Prepare the groundwork for statistical NLP methods\n"
   ]
  },
  {
   "cell_type": "code",
   "execution_count": 1,
   "id": "7fab39d4-597a-44a8-8ad3-7732e50392ce",
   "metadata": {},
   "outputs": [],
   "source": [
    "# Step 0: Import required libraries\n",
    "import re\n"
   ]
  },
  {
   "cell_type": "markdown",
   "id": "62e307b7-4b88-492f-9212-719085deb390",
   "metadata": {},
   "source": [
    "### Keyword Extraction\n",
    "- Extract important words from a text using a **list of keywords**.\n",
    "- Simple but effective for **domain-specific applications**."
   ]
  },
  {
   "cell_type": "code",
   "execution_count": 2,
   "id": "d542c2a5-6b22-492a-a7b5-d5f857b6c5e8",
   "metadata": {},
   "outputs": [
    {
     "name": "stdout",
     "output_type": "stream",
     "text": [
      "Keywords found: ['Python', 'NLP', 'NLP']\n"
     ]
    }
   ],
   "source": [
    "# Sample text\n",
    "text = \"Python and NLP are awesome. NLP helps machines understand language.\"\n",
    "\n",
    "# Keyword list\n",
    "keywords = [\"Python\", \"NLP\", \"language\"]\n",
    "\n",
    "# Extract keywords\n",
    "found_keywords = [word for word in text.split() if word in keywords]\n",
    "print(\"Keywords found:\", found_keywords)\n"
   ]
  },
  {
   "cell_type": "markdown",
   "id": "be3d7703-17c4-44c2-928d-7467813b1a95",
   "metadata": {},
   "source": [
    "**Explanation:**  \n",
    "- We split the text into words and check which words are in the keyword list.\n",
    "- Students can try adding more keywords to see results."
   ]
  },
  {
   "cell_type": "markdown",
   "id": "23b82f67-9668-4b5f-b996-d8580c27213b",
   "metadata": {},
   "source": [
    "### Pattern Matching with Regex\n",
    "- Regex (Regular Expressions) allow us to find **patterns in text**.\n",
    "- Can be used for:\n",
    "  - Detecting words starting with uppercase\n",
    "  - Finding emails, dates, or special patterns"
   ]
  },
  {
   "cell_type": "code",
   "execution_count": 3,
   "id": "9523bc25-7695-4a92-9fd6-503221de9533",
   "metadata": {},
   "outputs": [
    {
     "name": "stdout",
     "output_type": "stream",
     "text": [
      "Regex matches: ['Python']\n"
     ]
    }
   ],
   "source": [
    "# Regex example: words starting with capital letters\n",
    "pattern = r'\\b[A-Z][a-z]+\\b'\n",
    "matches = re.findall(pattern, text)\n",
    "print(\"Regex matches:\", matches)"
   ]
  },
  {
   "cell_type": "markdown",
   "id": "68f89670-4ea8-43fe-8bf5-e1a9a7669733",
   "metadata": {},
   "source": [
    "**Explanation:**  \n",
    "- `\\b` → word boundary  \n",
    "- `[A-Z]` → starts with uppercase  \n",
    "- `[a-z]+` → followed by lowercase letters\n"
   ]
  },
  {
   "cell_type": "markdown",
   "id": "422e062f-4601-4272-bf34-2d3f41bfec28",
   "metadata": {},
   "source": [
    "### Sentiment/Rule-Based Pattern Matching\n",
    "- Define **simple positive/negative word rules**.\n",
    "- Can detect sentiment or custom patterns in text."
   ]
  },
  {
   "cell_type": "code",
   "execution_count": 4,
   "id": "a6d1b0bc-0413-4c7d-a961-0c90df48da44",
   "metadata": {},
   "outputs": [
    {
     "name": "stdout",
     "output_type": "stream",
     "text": [
      "Positive words found: ['love']\n",
      "Negative words found: []\n"
     ]
    }
   ],
   "source": [
    "# Sample text\n",
    "text2 = \"I love NLP but sometimes Python is confusing.\"\n",
    "\n",
    "# Sentiment keywords\n",
    "positive_words = [\"love\", \"awesome\", \"great\"]\n",
    "negative_words = [\"confusing\", \"boring\", \"difficult\"]\n",
    "\n",
    "# Match sentiment words\n",
    "pos_matches = [w for w in text2.split() if w in positive_words]\n",
    "neg_matches = [w for w in text2.split() if w in negative_words]\n",
    "\n",
    "print(\"Positive words found:\", pos_matches)\n",
    "print(\"Negative words found:\", neg_matches)\n"
   ]
  },
  {
   "cell_type": "code",
   "execution_count": 5,
   "id": "b7a9872f-a74d-4878-9d8d-ce36fbe88cd3",
   "metadata": {},
   "outputs": [
    {
     "name": "stdout",
     "output_type": "stream",
     "text": [
      "Found 'Python' in the text!\n"
     ]
    }
   ],
   "source": [
    "# Pattern matching example: find 'Python'\n",
    "if re.search(r'\\bPython\\b', text2):\n",
    "    print(\"Found 'Python' in the text!\")"
   ]
  },
  {
   "cell_type": "markdown",
   "id": "f10b0c86-190c-4500-873a-955df72b8754",
   "metadata": {},
   "source": [
    "**Explanation:**  \n",
    "- `re.search(pattern, text)` returns the **first match** of the pattern in text.  \n",
    "- Rule-based NLP is **easy to understand** and a good foundation before machine learning approaches."
   ]
  },
  {
   "cell_type": "markdown",
   "id": "6e11f458-7f4a-4df5-b806-eb950fc80f2f",
   "metadata": {},
   "source": [
    "### Applying Rules to a Dataset"
   ]
  },
  {
   "cell_type": "code",
   "execution_count": 6,
   "id": "2123e09b-31cb-4663-8833-bf53dd79a664",
   "metadata": {},
   "outputs": [
    {
     "name": "stdout",
     "output_type": "stream",
     "text": [
      "Text 1: I love Python and NLP.\n",
      " - Keywords: ['Python']\n",
      " - Positive words: ['love']\n",
      "-----\n",
      "Text 2: Learning regex is fun but sometimes confusing.\n",
      " - Keywords: ['regex']\n",
      " - Positive words: ['fun']\n",
      "-----\n",
      "Text 3: Python is awesome for text analysis.\n",
      " - Keywords: ['Python']\n",
      " - Positive words: ['awesome']\n",
      "-----\n"
     ]
    }
   ],
   "source": [
    "# Sample dataset\n",
    "texts = [\n",
    "    \"I love Python and NLP.\",\n",
    "    \"Learning regex is fun but sometimes confusing.\",\n",
    "    \"Python is awesome for text analysis.\"\n",
    "]\n",
    "\n",
    "# Define rules\n",
    "keywords = [\"Python\", \"NLP\", \"regex\"]\n",
    "positive_words = [\"love\", \"awesome\", \"fun\"]\n",
    "\n",
    "# Apply keyword and sentiment rules\n",
    "for idx, t in enumerate(texts, 1):\n",
    "    found_keywords = [w for w in t.split() if w in keywords]\n",
    "    pos_matches = [w for w in t.split() if w in positive_words]\n",
    "    print(f\"Text {idx}: {t}\")\n",
    "    print(\" - Keywords:\", found_keywords)\n",
    "    print(\" - Positive words:\", pos_matches)\n",
    "    print(\"-----\")\n"
   ]
  },
  {
   "cell_type": "code",
   "execution_count": null,
   "id": "65f11015-0c81-42d4-994d-0b5a341b3613",
   "metadata": {},
   "outputs": [],
   "source": []
  }
 ],
 "metadata": {
  "kernelspec": {
   "display_name": "Python 3 (ipykernel)",
   "language": "python",
   "name": "python3"
  },
  "language_info": {
   "codemirror_mode": {
    "name": "ipython",
    "version": 3
   },
   "file_extension": ".py",
   "mimetype": "text/x-python",
   "name": "python",
   "nbconvert_exporter": "python",
   "pygments_lexer": "ipython3",
   "version": "3.12.9"
  }
 },
 "nbformat": 4,
 "nbformat_minor": 5
}
